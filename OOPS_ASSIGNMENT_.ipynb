{
  "nbformat": 4,
  "nbformat_minor": 0,
  "metadata": {
    "colab": {
      "provenance": []
    },
    "kernelspec": {
      "name": "python3",
      "display_name": "Python 3"
    },
    "language_info": {
      "name": "python"
    }
  },
  "cells": [
    {
      "cell_type": "markdown",
      "source": [
        "OPPS ASSIGNMENT\n"
      ],
      "metadata": {
        "id": "z0wrJ4PEyBSv"
      }
    },
    {
      "cell_type": "markdown",
      "source": [
        "                            OPPS ASSIGNMENT (THEROY)\n",
        "\n",
        "  1.What is Object-Oriented Programming (OOP) ?\n",
        "   \n",
        "   . Object-Oriented Programming (OOP) is a programming paradigm that organizes software design around objects rather than actions. An object can be thought of as an instance of a class, and it is a collection of data (often referred to as attributes or properties) and methods (functions or operations) that manipulate that data. OOP is used to create models based on real-world entities and their relationships, making the system more modular, scalable, and maintainable.\n",
        "\n",
        "2.What is a class in OOP ?\n",
        "\n",
        " . In Object-Oriented Programming (OOP), a class is a blueprint or template for creating objects (instances). It defines the structure and behavior of the objects that belong to it. A class encapsulates data (attributes or properties) and functions (methods or operations) that operate on that data.\n",
        "\n",
        "3.What is an object in OOP ?\n",
        "\n",
        "  . In Object-Oriented Programming (OOP), an object is an instance of a class. It represents a real-world entity or concept, encapsulating both data (attributes) and the operations (methods) that can be performed on that data. Objects are created from classes, and each object has its own unique state (the values of its attributes) and behavior (the methods it can execute).\n",
        "\n",
        "4.What is the difference between abstraction and encapsulation ?\n",
        "  \n",
        "  .Abstraction and Encapsulation are two fundamental concepts in Object-Oriented Programming (OOP), but they serve different purposes and are used in different ways. Here's a clear distinction between the two:\n",
        "  \n",
        "  .Abstraction: Abstraction refers to the concept of hiding the complex implementation details and showing only the essential features of an object. It allows the user to interact with an object at a high level, without needing to understand the intricate details of how it works. Abstraction focuses on what an object does, not how it does it.\n",
        "\n",
        "  .Encapsulation: Encapsulation refers to the bundling of data (attributes) and the methods (functions) that operate on that data into a single unit or class. It also involves restricting direct access to some of an object's components, which is done to protect the object's integrity by preventing external code from making unintended changes to its internal state. This is typically achieved through access modifiers (such as private, protected, and public in many languages).\n",
        "\n",
        "5.What are dunder methods in Python ?\n",
        "\n",
        " . Dunder methods (also known as magic methods or special methods) in Python are methods that have double underscores (__) at the beginning and the end of their names. These methods allow you to define or customize the behavior of built-in operations for your objects, such as addition, string representation, or comparison.\n",
        "\n",
        "6.Explain the concept of inheritance in OOP ?\n",
        "\n",
        " . Inheritance is one of the key concepts in Object-Oriented Programming (OOP), which allows a new class (called a child class or subclass) to inherit attributes and behaviors (methods) from an existing class (called a parent class or superclass). The child class can extend or modify the inherited behavior, thus promoting code reusability, reducing redundancy, and enhancing modularity.\n",
        "\n",
        "7.What is polymorphism in OOP ?\n",
        "\n",
        ". Polymorphism is one of the key principles of Object-Oriented Programming (OOP), and it refers to the ability of different objects to respond to the same method or operator in different ways. The word polymorphism comes from Greek, meaning \"many shapes.\" In OOP, it means that one method or function can operate on objects of different types, and those objects can behave in ways appropriate to their specific types.\n",
        "\n",
        "8.How is encapsulation achieved in Python ?\n",
        "\n",
        " . Encapsulation is one of the fundamental principles of Object-Oriented Programming (OOP). It refers to the concept of bundling the data (attributes) and the methods (functions) that operate on the data into a single unit (class), and restricting access to some of the object's components to prevent unintended interference and misuse.\n",
        "\n",
        "9.What is a constructor in Python ?\n",
        "\n",
        " .A constructor in Python is a special method that is automatically called when a new instance (object) of a class is created. The purpose of a constructor is to initialize the object's attributes (state) when the object is created, ensuring that the object starts in a valid state.\n",
        "\n",
        "10.What are class and static methods in Python ?\n",
        "\n",
        " . In Python, class methods and static methods are two types of methods that are used in object-oriented programming, but they differ in how they are bound to the class and how they operate. These methods allow you to define functionality that is related to the class itself, rather than just to an instance of the class.\n",
        "\n",
        " . Class Method: A class method is a method that is bound to the class and not the instance of the class. It can be called on the class itself, or on an instance of the class, but it always takes the class as the first argument. The first parameter of a class method is conventionally named cls, which refers to the class itself (like how self refers to the instance in instance methods).\n",
        "\n",
        " . Static Method: A static method is a method that belongs to the class, but does not have access to the class (cls) or instance (self). It behaves like a regular function but resides in the class's namespace. Static methods are used when you want to perform some operation that is related to the class but does not need to access or modify any class or instance-specific data.\n",
        "\n",
        "11.What is method overloading in Python ?\n",
        "\n",
        " . Method Overloading is a feature in object-oriented programming that allows multiple methods with the same name to exist within the same class, but with different parameters (i.e., a different number or type of arguments). The appropriate method is then chosen at runtime based on the number and type of arguments passed to it.\n",
        "\n",
        "12.What is method overriding in OOP ?\n",
        "\n",
        " . Method overriding is a feature in object-oriented programming (OOP) where a subclass (child class) provides its own specific implementation of a method that is already defined in its superclass (parent class). The method in the subclass overrides the method in the parent class, allowing the subclass to provide a behavior that is different from the parent class.\n",
        "\n",
        "13.What is a property decorator in Python >\n",
        "\n",
        " . The @property decorator in Python is used to define methods that act like attributes, allowing you to define getter, setter, and deleter methods for an attribute while maintaining a clean and intuitive syntax for accessing and modifying the attribute. This allows you to implement controlled access to an attribute (i.e., data encapsulation) without directly exposing the internal data.\n",
        "\n",
        "14.Why is polymorphism important in OOP ?\n",
        "\n",
        " . Polymorphism is one of the core principles of Object-Oriented Programming (OOP), and it plays a vital role in designing flexible and reusable code. The term polymorphism comes from Greek words meaning \"many shapes.\" In OOP, it refers to the ability of a single function, method, or operator to work with objects of different types, allowing different classes to provide their own implementation of a method.\n",
        "\n",
        "15.What is an abstract class in Python ?\n",
        "\n",
        " . An abstract class in Python is a class that cannot be instantiated directly. It serves as a blueprint for other classes. It can define methods that must be created within any child class built from the abstract class. These methods are often abstract methods, which means they have no implementation in the abstract class itself and must be implemented by any subclass.\n",
        "\n",
        "16.What are the advantages of OOP ?\n",
        "\n",
        ".Object-Oriented Programming (OOP) is one of the most widely used programming paradigms due to its numerous benefits, particularly in managing complex software systems. OOP provides an approach that is modular, scalable, and maintainable. Below are the key advantages of using OOP:\n",
        "\n",
        ".Modularity\n",
        ".Reusability\n",
        ".Maintainability\n",
        "\n",
        "17.What is the difference between a class variable and an instance variable ?\n",
        "\n",
        " .In Python, class variables and instance variables are both used to store data, but they differ in how they are defined and accessed, as well as their scope and behavior in an object-oriented program.\n",
        "\n",
        " .Class Variable: A class variable is a variable that is shared by all instances of the class. It is defined within the class, but outside of any instance methods (i.e., usually at the class level).\n",
        "\n",
        " .Instance Variable: An instance variable is a variable that is tied to a specific instance of a class. It is usually defined within the constructor method (__init__), and each instance of the class has its own separate copy of the variable.\n",
        "\n",
        "18.What is multiple inheritance in Python ?\n",
        "\n",
        " . Multiple inheritance is a feature in Python (and other object-oriented programming languages) where a class can inherit from more than one parent class. This means that a subclass can inherit attributes and methods from multiple superclasses, combining their features into a single class.\n",
        "\n",
        "19.Explain the purpose of ‘’__str__’ and ‘__repr__’ ‘ methods in Python ?\n",
        "\n",
        " .In Python, the __str__ and __repr__ methods are special methods (often called \"dunder\" methods due to the double underscores) that define how objects of a class are represented as strings\n",
        "\n",
        " .__str__ Method: The __str__ method is intended to return a human-readable string representation of an object. This is the string that is typically used when you call print() or use str() on an object.\n",
        "\n",
        " .__repr__ Method: The __repr__ method is intended to return a formal string representation of an object, one that is unambiguous and ideally should be able to recreate the object when passed to the eval() function. The __repr__ method is used for debugging and logging.\n",
        "\n",
        "20. What is the significance of the ‘super()’ function in Python ?\n",
        "\n",
        " .The super() function in Python is a built-in function used to call methods from a parent (super) class in a class that inherits from one or more classes. It is primarily used in inheritance and is essential for facilitating method overriding and accessing inherited methods. The super() function allows you to call the method from a superclass, and it can help resolve issues that arise from multiple inheritance, enabling you to work with the Method Resolution Order (MRO) in a controlled manner.\n",
        "\n",
        "21.What is the significance of the __del__ method in Python ?\n",
        "\n",
        " .The __del__ method in Python is a destructor method, and it is called when an object is about to be destroyed or deleted. It is part of Python’s garbage collection system and is invoked when the reference count for an object reaches zero, signaling that the object is no longer needed and can be safely removed from memory.\n",
        "\n",
        "22.What is the difference between @staticmethod and @classmethod in Python ?\n",
        "\n",
        " .In Python, both @staticmethod and @classmethod are decorators that allow you to define methods that are associated with a class, rather than an instance of the class. However, there are key differences in how they work and what they represent.\n",
        "\n",
        " .staticmethod: A static method is a method that belongs to the class itself rather than to instances of the class. It doesn't take the self or cls parameter as its first argument. It is just a regular method that is bound to the class and doesn't require access to any instance-specific data or methods.\n",
        "\n",
        " . @classmethod: A class method is a method that belongs to the class and takes the class itself (cls) as its first argument. This allows the method to access and modify the class’s state, but not the instance's state.\n",
        "\n",
        "23.How does polymorphism work in Python with inheritance ?\n",
        "\n",
        ".Polymorphism is one of the core concepts in Object-Oriented Programming (OOP), and it refers to the ability of different objects to respond to the same method or function call in different ways. It literally means \"many forms.\" In Python, polymorphism can be achieved through inheritance and method overriding.\n",
        "\n",
        "\n",
        "24.What is method chaining in Python OOP ?\n",
        "\n",
        " .Method chaining in Python (or in any object-oriented programming language) refers to the practice of calling multiple methods on the same object in a single line of code. This is possible when each method in the chain returns the object itself (or another object that supports further method calls), allowing you to call multiple methods consecutively.\n",
        "\n",
        "25.What is the purpose of the __call__ method in Python?\n",
        "\n",
        " .In Python, the __call__ method allows an instance of a class to be called as if it were a function. When you implement the __call__ method in a class, objects of that class can be invoked directly, just like functions. This gives objects function-like behavior, allowing you to call an instance with parentheses ().\n",
        "\n",
        "\n",
        "\n",
        "\n",
        "\n",
        "\n",
        "\n",
        "\n",
        "\n",
        "\n",
        "\n",
        "\n",
        "\n",
        "\n",
        "\n",
        "\n",
        "\n",
        "\n",
        "\n",
        "\n",
        "\n",
        "\n",
        "\n",
        "\n",
        "\n",
        "\n",
        "\n",
        "\n",
        "\n",
        "\n",
        "\n",
        "\n",
        "\n",
        "\n",
        "\n",
        "\n",
        "\n",
        "\n",
        "\n",
        "\n",
        "\n",
        "\n",
        "\n",
        "\n",
        "\n",
        "\n",
        "\n",
        "\n",
        "\n",
        "\n",
        "\n",
        "\n",
        "\n",
        "\n",
        "\n",
        "\n",
        "\n",
        "\n",
        "\n",
        "\n",
        "\n",
        "\n",
        "\n",
        "\n",
        "\n",
        "\n",
        "\n",
        "\n",
        "\n",
        "\n",
        "\n"
      ],
      "metadata": {
        "id": "UsBbgvtdyMAv"
      }
    },
    {
      "cell_type": "markdown",
      "source": [
        "                                  PRACTICAL  \n",
        "  1. 1. Create a parent class Animal with a method speak() that prints a generic message. Create a child class Dog\n",
        "that overrides the speak() method to print \"Bark!\"."
      ],
      "metadata": {
        "id": "7Sml9_48_0t9"
      }
    },
    {
      "cell_type": "code",
      "source": [
        "# Parent class Animal\n",
        "class Animal:\n",
        "    def speak(self):\n",
        "        print(\"Animal makes a sound\")\n",
        "\n",
        "# Child class Dog that inherits from Animal\n",
        "class Dog(Animal):\n",
        "    def speak(self):\n",
        "        print(\"Bark!\")\n",
        "\n",
        "# Creating instances\n",
        "animal = Animal()\n",
        "dog = Dog()\n",
        "\n",
        "# Calling the speak() method on both instances\n",
        "animal.speak()  # Output: Animal makes a sound\n",
        "dog.speak()     # Output: Bark!\n"
      ],
      "metadata": {
        "colab": {
          "base_uri": "https://localhost:8080/"
        },
        "id": "I7wZHZWR_pHW",
        "outputId": "6872d2e9-92da-4312-b295-f3ce3c235f13"
      },
      "execution_count": 1,
      "outputs": [
        {
          "output_type": "stream",
          "name": "stdout",
          "text": [
            "Animal makes a sound\n",
            "Bark!\n"
          ]
        }
      ]
    },
    {
      "cell_type": "markdown",
      "source": [
        " 2. Write a program to create an abstract class Shape with a method area(). Derive classes Circle and Rectangle\n",
        "from it and implement the area() method in both."
      ],
      "metadata": {
        "id": "FsuqBgVZBliL"
      }
    },
    {
      "cell_type": "code",
      "source": [
        "from abc import ABC, abstractmethod\n",
        "import math\n",
        "\n",
        "# Abstract class Shape\n",
        "class Shape(ABC):\n",
        "    @abstractmethod\n",
        "    def area(self):\n",
        "        pass\n",
        "\n",
        "# Derived class Circle\n",
        "class Circle(Shape):\n",
        "    def __init__(self, radius):\n",
        "        self.radius = radius\n",
        "\n",
        "    def area(self):\n",
        "        return math.pi * self.radius ** 2\n",
        "\n",
        "# Derived class Rectangle\n",
        "class Rectangle(Shape):\n",
        "    def __init__(self, width, height):\n",
        "        self.width = width\n",
        "        self.height = height\n",
        "\n",
        "    def area(self):\n",
        "        return self.width * self.height\n",
        "\n",
        "# Creating instances of Circle and Rectangle\n",
        "circle = Circle(5)\n",
        "rectangle = Rectangle(4, 6)\n",
        "\n",
        "# Calculating areas\n",
        "print(\"Area of Circle:\", circle.area())      # Output: Area of Circle: 78.53981633974483\n",
        "print(\"Area of Rectangle:\", rectangle.area())  # Output: Area of Rectangle: 24\n"
      ],
      "metadata": {
        "colab": {
          "base_uri": "https://localhost:8080/"
        },
        "id": "P6n4Zyl0yZzq",
        "outputId": "ba38938e-398f-4614-efd5-aea3f1f63d74"
      },
      "execution_count": 2,
      "outputs": [
        {
          "output_type": "stream",
          "name": "stdout",
          "text": [
            "Area of Circle: 78.53981633974483\n",
            "Area of Rectangle: 24\n"
          ]
        }
      ]
    },
    {
      "cell_type": "markdown",
      "source": [
        "  3. Implement a multi-level inheritance scenario where a class Vehicle has an attribute type. Derive a class Car\n",
        "and further derive a class ElectricCar that adds a battery attribute."
      ],
      "metadata": {
        "id": "27sr8l8YC-A8"
      }
    },
    {
      "cell_type": "code",
      "source": [
        "# Base class Vehicle\n",
        "class Vehicle:\n",
        "    def __init__(self, type_of_vehicle):\n",
        "        self.type = type_of_vehicle\n",
        "\n",
        "    def display_info(self):\n",
        "        print(f\"This is a {self.type}.\")\n",
        "\n",
        "# Derived class Car\n",
        "class Car(Vehicle):\n",
        "    def __init__(self, type_of_vehicle, make, model):\n",
        "        # Initialize the parent class Vehicle\n",
        "        super().__init__(type_of_vehicle)\n",
        "        self.make = make\n",
        "        self.model = model\n",
        "\n",
        "    def display_info(self):\n",
        "        # Call the base class display_info method\n",
        "        super().display_info()\n",
        "        print(f\"It is a {self.make} {self.model} car.\")\n",
        "\n",
        "# Further derived class ElectricCar\n",
        "class ElectricCar(Car):\n",
        "    def __init__(self, type_of_vehicle, make, model, battery_capacity):\n",
        "        # Initialize the parent class Car\n",
        "        super().__init__(type_of_vehicle, make, model)\n",
        "        self.battery_capacity = battery_capacity\n",
        "\n",
        "    def display_info(self):\n",
        "        # Call the base class display_info method\n",
        "        super().display_info()\n",
        "        print(f\"It has a {self.battery_capacity} kWh battery.\")\n",
        "\n",
        "# Creating an instance of ElectricCar\n",
        "electric_car = ElectricCar(\"Electric Vehicle\", \"Tesla\", \"Model S\", 100)\n",
        "\n",
        "# Display information\n",
        "electric_car.display_info()\n"
      ],
      "metadata": {
        "colab": {
          "base_uri": "https://localhost:8080/"
        },
        "id": "yDMHgPCJC1a2",
        "outputId": "1d02c4be-db29-47d5-96d1-93eda285d797"
      },
      "execution_count": 3,
      "outputs": [
        {
          "output_type": "stream",
          "name": "stdout",
          "text": [
            "This is a Electric Vehicle.\n",
            "It is a Tesla Model S car.\n",
            "It has a 100 kWh battery.\n"
          ]
        }
      ]
    },
    {
      "cell_type": "markdown",
      "source": [
        "4. Implement a multi-level inheritance scenario where a class Vehicle has an attribute type. Derive a class Car\n",
        "and further derive a class ElectricCar that adds a battery attribute."
      ],
      "metadata": {
        "id": "q_ydsKG5Dbzg"
      }
    },
    {
      "cell_type": "code",
      "source": [
        "# Base class Vehicle\n",
        "class Vehicle:\n",
        "    def __init__(self, type_of_vehicle):\n",
        "        self.type = type_of_vehicle  # Attribute to store the type of vehicle\n",
        "\n",
        "    def display_info(self):\n",
        "        print(f\"This is a {self.type}.\")\n",
        "\n",
        "# Derived class Car that extends Vehicle\n",
        "class Car(Vehicle):\n",
        "    def __init__(self, type_of_vehicle, make, model):\n",
        "        # Call the constructor of the parent class Vehicle\n",
        "        super().__init__(type_of_vehicle)\n",
        "        self.make = make  # Make of the car\n",
        "        self.model = model  # Model of the car\n",
        "\n",
        "    def display_info(self):\n",
        "        # Call the base class's display_info() method\n",
        "        super().display_info()\n",
        "        print(f\"It is a {self.make} {self.model} car.\")\n",
        "\n",
        "# Further derived class ElectricCar that extends Car\n",
        "class ElectricCar(Car):\n",
        "    def __init__(self, type_of_vehicle, make, model, battery_capacity):\n",
        "        # Call the constructor of the parent class Car\n",
        "        super().__init__(type_of_vehicle, make, model)\n",
        "        self.battery_capacity = battery_capacity  # Attribute for battery capacity\n",
        "\n",
        "    def display_info(self):\n",
        "        # Call the base class's display_info() method\n",
        "        super().display_info()\n",
        "        print(f\"It has a battery capacity of {self.battery_capacity} kWh.\")\n",
        "\n",
        "# Creating an instance of ElectricCar\n",
        "electric_car = ElectricCar(\"Electric Vehicle\", \"Tesla\", \"Model S\", 100)\n",
        "\n",
        "# Displaying the information of the electric car\n",
        "electric_car.display_info()\n"
      ],
      "metadata": {
        "colab": {
          "base_uri": "https://localhost:8080/"
        },
        "id": "b7Tl1odyDXGo",
        "outputId": "aa3a597b-7344-4d15-eca9-a29bc71f9ea9"
      },
      "execution_count": 4,
      "outputs": [
        {
          "output_type": "stream",
          "name": "stdout",
          "text": [
            "This is a Electric Vehicle.\n",
            "It is a Tesla Model S car.\n",
            "It has a battery capacity of 100 kWh.\n"
          ]
        }
      ]
    },
    {
      "cell_type": "markdown",
      "source": [
        "5. Write a program to demonstrate encapsulation by creating a class BankAccount with private attributes\n",
        "balance and methods to deposit, withdraw, and check balance."
      ],
      "metadata": {
        "id": "WsjijMzDEHzE"
      }
    },
    {
      "cell_type": "code",
      "source": [
        "class BankAccount:\n",
        "    def __init__(self, initial_balance):\n",
        "        # Private attribute balance, initialized with initial_balance\n",
        "        self.__balance = initial_balance\n",
        "\n",
        "    # Method to deposit money into the account\n",
        "    def deposit(self, amount):\n",
        "        if amount > 0:\n",
        "            self.__balance += amount\n",
        "            print(f\"Deposited: {amount}\")\n",
        "        else:\n",
        "            print(\"Deposit amount must be positive.\")\n",
        "\n",
        "    # Method to withdraw money from the account\n",
        "    def withdraw(self, amount):\n",
        "        if amount > 0 and amount <= self.__balance:\n",
        "            self.__balance -= amount\n",
        "            print(f\"Withdrew: {amount}\")\n",
        "        elif amount <= 0:\n",
        "            print(\"Withdrawal amount must be positive.\")\n",
        "        else:\n",
        "            print(\"Insufficient balance.\")\n",
        "\n",
        "    # Method to check the current balance\n",
        "    def check_balance(self):\n",
        "        print(f\"Current balance: {self.__balance}\")\n",
        "\n",
        "# Creating a BankAccount object\n",
        "account = BankAccount(1000)  # Initial balance of 1000\n",
        "\n",
        "# Checking the initial balance\n",
        "account.check_balance()  # Output: Current balance: 1000\n",
        "\n",
        "# Depositing money\n",
        "account.deposit(500)  # Output: Deposited: 500\n",
        "account.check_balance()  # Output: Current balance: 1500\n",
        "\n",
        "# Withdrawing money\n",
        "account.withdraw(200)  # Output: Withdrew: 200\n",
        "account.check_balance()  # Output: Current balance: 1300\n",
        "\n",
        "# Attempting to withdraw an amount larger than the balance\n",
        "account.withdraw(1500)  # Output: Insufficient balance.\n",
        "account.check_balance()  # Output: Current balance: 1300\n"
      ],
      "metadata": {
        "colab": {
          "base_uri": "https://localhost:8080/"
        },
        "id": "b-dtkYdJFU6o",
        "outputId": "11a75ab3-bd05-4a24-ae8a-c1e2a90b47ef"
      },
      "execution_count": 6,
      "outputs": [
        {
          "output_type": "stream",
          "name": "stdout",
          "text": [
            "Current balance: 1000\n",
            "Deposited: 500\n",
            "Current balance: 1500\n",
            "Withdrew: 200\n",
            "Current balance: 1300\n",
            "Insufficient balance.\n",
            "Current balance: 1300\n"
          ]
        }
      ]
    },
    {
      "cell_type": "markdown",
      "source": [
        "6. Demonstrate runtime polymorphism using a method play() in a base class Instrument. Derive classes Guitar\n",
        "and Piano that implement their own version of play()."
      ],
      "metadata": {
        "id": "X-OWnHTFEjmq"
      }
    },
    {
      "cell_type": "code",
      "source": [
        "# Base class Instrument\n",
        "class Instrument:\n",
        "    def play(self):\n",
        "        print(\"Playing an instrument\")\n",
        "\n",
        "# Derived class Guitar\n",
        "class Guitar(Instrument):\n",
        "    def play(self):\n",
        "        print(\"Strumming the Guitar\")\n",
        "\n",
        "# Derived class Piano\n",
        "class Piano(Instrument):\n",
        "    def play(self):\n",
        "        print(\"Playing the Piano\")\n",
        "\n",
        "# Function to demonstrate polymorphism\n",
        "def demonstrate_polymorphism(instrument: Instrument):\n",
        "    instrument.play()\n",
        "\n",
        "# Creating instances of Guitar and Piano\n",
        "guitar = Guitar()\n",
        "piano = Piano()\n",
        "\n",
        "# Demonstrating runtime polymorphism\n",
        "demonstrate_polymorphism(guitar)  # Output: Strumming the Guitar\n",
        "demonstrate_polymorphism(piano)   # Output: Playing the Piano\n"
      ],
      "metadata": {
        "colab": {
          "base_uri": "https://localhost:8080/"
        },
        "id": "YNbXzvoqEVeI",
        "outputId": "2a103443-96b7-49d4-fcd9-cf2373508e47"
      },
      "execution_count": 7,
      "outputs": [
        {
          "output_type": "stream",
          "name": "stdout",
          "text": [
            "Strumming the Guitar\n",
            "Playing the Piano\n"
          ]
        }
      ]
    },
    {
      "cell_type": "markdown",
      "source": [
        "7. Create a class MathOperations with a class method add_numbers() to add two numbers and a static\n",
        "method subtract_numbers() to subtract two numbers.\n"
      ],
      "metadata": {
        "id": "SirRCgDIGCvG"
      }
    },
    {
      "cell_type": "code",
      "source": [
        "class MathOperations:\n",
        "\n",
        "    # Class method to add two numbers\n",
        "    @classmethod\n",
        "    def add_numbers(cls, num1, num2):\n",
        "        return num1 + num2\n",
        "\n",
        "    # Static method to subtract two numbers\n",
        "    @staticmethod\n",
        "    def subtract_numbers(num1, num2):\n",
        "        return num1 - num2\n",
        "\n",
        "# Using the class method to add numbers\n",
        "result_add = MathOperations.add_numbers(10, 5)\n",
        "print(f\"Addition Result: {result_add}\")  # Output: Addition Result: 15\n",
        "\n",
        "# Using the static method to subtract numbers\n",
        "result_subtract = MathOperations.subtract_numbers(10, 5)\n",
        "print(f\"Subtraction Result: {result_subtract}\")  # Output: Subtraction Result: 5\n"
      ],
      "metadata": {
        "colab": {
          "base_uri": "https://localhost:8080/"
        },
        "id": "DF8VsFSeGGnK",
        "outputId": "420191fe-5139-49e8-88ea-640cc289234a"
      },
      "execution_count": 8,
      "outputs": [
        {
          "output_type": "stream",
          "name": "stdout",
          "text": [
            "Addition Result: 15\n",
            "Subtraction Result: 5\n"
          ]
        }
      ]
    },
    {
      "cell_type": "markdown",
      "source": [
        "8. Implement a class Person with a class method to count the total number of persons created."
      ],
      "metadata": {
        "id": "fX8P1c9vGfEb"
      }
    },
    {
      "cell_type": "code",
      "source": [
        "class Person:\n",
        "    # Class variable to keep track of the total number of persons\n",
        "    total_persons = 0\n",
        "\n",
        "    def __init__(self, name, age):\n",
        "        # Instance variables\n",
        "        self.name = name\n",
        "        self.age = age\n",
        "\n",
        "        # Increment the class variable total_persons when a new person is created\n",
        "        Person.total_persons += 1\n",
        "\n",
        "    # Class method to get the total number of persons created\n",
        "    @classmethod\n",
        "    def get_total_persons(cls):\n",
        "        return cls.total_persons\n",
        "\n",
        "\n",
        "# Creating instances of Person\n",
        "person1 = Person(\"Alice\", 30)\n",
        "person2 = Person(\"Bob\", 25)\n",
        "person3 = Person(\"Charlie\", 35)\n",
        "\n",
        "# Getting the total number of persons created using the class method\n",
        "print(f\"Total number of persons created: {Person.get_total_persons()}\")\n"
      ],
      "metadata": {
        "colab": {
          "base_uri": "https://localhost:8080/"
        },
        "id": "hUYWdASZGkiE",
        "outputId": "21be907b-b1f8-4bbf-b19b-956ffa923dcd"
      },
      "execution_count": 9,
      "outputs": [
        {
          "output_type": "stream",
          "name": "stdout",
          "text": [
            "Total number of persons created: 3\n"
          ]
        }
      ]
    },
    {
      "cell_type": "markdown",
      "source": [
        "9. Write a class Fraction with attributes numerator and denominator. Override the str method to display the\n",
        "fraction as \"numerator/denominator\"."
      ],
      "metadata": {
        "id": "BdwPq0EzGx5b"
      }
    },
    {
      "cell_type": "code",
      "source": [
        "class Fraction:\n",
        "    def __init__(self, numerator, denominator):\n",
        "        # Initializing numerator and denominator attributes\n",
        "        if denominator == 0:\n",
        "            raise ValueError(\"Denominator cannot be zero.\")\n",
        "        self.numerator = numerator\n",
        "        self.denominator = denominator\n",
        "\n",
        "    # Overriding the __str__ method to display the fraction as 'numerator/denominator'\n",
        "    def __str__(self):\n",
        "        return f\"{self.numerator}/{self.denominator}\"\n",
        "\n",
        "# Creating instances of Fraction\n",
        "fraction1 = Fraction(3, 4)\n",
        "fraction2 = Fraction(5, 6)\n",
        "\n",
        "# Printing the fractions using the overridden __str__ method\n",
        "print(fraction1)  # Output: 3/4\n",
        "print(fraction2)  # Output: 5/6\n"
      ],
      "metadata": {
        "colab": {
          "base_uri": "https://localhost:8080/"
        },
        "id": "W85uW223GxL9",
        "outputId": "e8ad2e9c-65f0-40b9-e109-b30294b03b0b"
      },
      "execution_count": 10,
      "outputs": [
        {
          "output_type": "stream",
          "name": "stdout",
          "text": [
            "3/4\n",
            "5/6\n"
          ]
        }
      ]
    },
    {
      "cell_type": "markdown",
      "source": [
        "10. Demonstrate operator overloading by creating a class Vector and overriding the add method to add two\n",
        "vectors."
      ],
      "metadata": {
        "id": "mWOZ-S-fHJkH"
      }
    },
    {
      "cell_type": "code",
      "source": [
        "class Vector:\n",
        "    def __init__(self, x, y):\n",
        "        # Initialize the vector with x and y components\n",
        "        self.x = x\n",
        "        self.y = y\n",
        "\n",
        "    # Overloading the + operator to add two vectors\n",
        "    def __add__(self, other):\n",
        "        if isinstance(other, Vector):\n",
        "            # Adding corresponding components of two vectors\n",
        "            return Vector(self.x + other.x, self.y + other.y)\n",
        "        return NotImplemented\n",
        "\n",
        "    # Method to display the vector in a readable form\n",
        "    def __str__(self):\n",
        "        return f\"({self.x}, {self.y})\"\n",
        "\n",
        "\n",
        "# Creating instances of Vector\n",
        "vector1 = Vector(1, 2)\n",
        "vector2 = Vector(3, 4)\n",
        "\n",
        "# Adding the two vectors using the overloaded + operator\n",
        "result = vector1 + vector2\n",
        "\n",
        "# Printing the result of the vector addition\n",
        "print(f\"Vector 1: {vector1}\")\n",
        "print(f\"Vector 2: {vector2}\")\n",
        "print(f\"Result of Vector addition: {result}\")\n"
      ],
      "metadata": {
        "colab": {
          "base_uri": "https://localhost:8080/"
        },
        "id": "KlS_c_mvHMDj",
        "outputId": "77270906-c825-4802-f534-ad2064b8c8df"
      },
      "execution_count": 11,
      "outputs": [
        {
          "output_type": "stream",
          "name": "stdout",
          "text": [
            "Vector 1: (1, 2)\n",
            "Vector 2: (3, 4)\n",
            "Result of Vector addition: (4, 6)\n"
          ]
        }
      ]
    },
    {
      "cell_type": "markdown",
      "source": [
        "11. Create a class Person with attributes name and age. Add a method greet() that prints \"Hello, my name is\n",
        "{name} and I am {age} years old.\""
      ],
      "metadata": {
        "id": "XhKQ5_UbHdox"
      }
    },
    {
      "cell_type": "code",
      "source": [
        "class Person:\n",
        "    def __init__(self, name, age):\n",
        "        # Initialize the name and age attributes\n",
        "        self.name = name\n",
        "        self.age = age\n",
        "\n",
        "    def greet(self):\n",
        "        # Print the greeting message\n",
        "        print(f\"Hello, my name is {self.name} and I am {self.age} years old.\")\n",
        "\n",
        "# Creating an instance of Person\n",
        "person1 = Person(\"Alice\", 30)\n",
        "\n",
        "# Calling the greet method to print the greeting message\n",
        "person1.greet()\n"
      ],
      "metadata": {
        "colab": {
          "base_uri": "https://localhost:8080/"
        },
        "id": "4NpJEUtQJsmp",
        "outputId": "9aa1ae29-0f17-41b9-f843-34889034bf41"
      },
      "execution_count": 12,
      "outputs": [
        {
          "output_type": "stream",
          "name": "stdout",
          "text": [
            "Hello, my name is Alice and I am 30 years old.\n"
          ]
        }
      ]
    },
    {
      "cell_type": "markdown",
      "source": [
        "12. Implement a class Student with attributes name and grades. Create a method average_grade() to compute\n",
        "the average of the grades."
      ],
      "metadata": {
        "id": "ScOVU-0sJ6qX"
      }
    },
    {
      "cell_type": "code",
      "source": [
        "class Student:\n",
        "    def __init__(self, name, grades):\n",
        "        # Initialize name and grades attributes\n",
        "        self.name = name\n",
        "        self.grades = grades  # grades should be a list of numbers\n",
        "\n",
        "    def average_grade(self):\n",
        "        # Compute the average of the grades\n",
        "        if len(self.grades) == 0:\n",
        "            return 0  # To avoid division by zero if no grades are provided\n",
        "        return sum(self.grades) / len(self.grades)\n",
        "\n",
        "# Creating an instance of Student\n",
        "student1 = Student(\"Alice\", [85, 90, 78, 92])\n",
        "\n",
        "# Calling the average_grade method to compute and print the average grade\n",
        "print(f\"{student1.name}'s average grade is: {student1.average_grade()}\")\n"
      ],
      "metadata": {
        "colab": {
          "base_uri": "https://localhost:8080/"
        },
        "id": "fj6KTIBnKY5f",
        "outputId": "e1415714-2ed6-4f98-a8f3-1e64cdbbd107"
      },
      "execution_count": 13,
      "outputs": [
        {
          "output_type": "stream",
          "name": "stdout",
          "text": [
            "Alice's average grade is: 86.25\n"
          ]
        }
      ]
    },
    {
      "cell_type": "markdown",
      "source": [
        "13. Create a class Rectangle with methods set_dimensions() to set the dimensions and area() to calculate the\n",
        "area."
      ],
      "metadata": {
        "id": "sKXO4JhRKeM9"
      }
    },
    {
      "cell_type": "code",
      "source": [
        "class Rectangle:\n",
        "    def __init__(self):\n",
        "        # Initialize dimensions with default values (optional)\n",
        "        self.length = 0\n",
        "        self.width = 0\n",
        "\n",
        "    def set_dimensions(self, length, width):\n",
        "        # Set the length and width of the rectangle\n",
        "        self.length = length\n",
        "        self.width = width\n",
        "\n",
        "    def area(self):\n",
        "        # Calculate and return the area of the rectangle\n",
        "        return self.length * self.width\n",
        "\n",
        "# Creating an instance of Rectangle\n",
        "rect1 = Rectangle()\n",
        "\n",
        "# Setting the dimensions of the rectangle\n",
        "rect1.set_dimensions(5, 3)\n",
        "\n",
        "# Calculating and printing the area of the rectangle\n",
        "print(f\"The area of the rectangle is: {rect1.area()}\")\n"
      ],
      "metadata": {
        "colab": {
          "base_uri": "https://localhost:8080/"
        },
        "id": "GCxbHqIyKiev",
        "outputId": "a7bfaba2-40be-45aa-9d4b-3d63a5087713"
      },
      "execution_count": 14,
      "outputs": [
        {
          "output_type": "stream",
          "name": "stdout",
          "text": [
            "The area of the rectangle is: 15\n"
          ]
        }
      ]
    },
    {
      "cell_type": "markdown",
      "source": [
        "14. Create a class Employee with a method calculate_salary() that computes the salary based on hours worked\n",
        "and hourly rate. Create a derived class Manager that adds a bonus to the salary."
      ],
      "metadata": {
        "id": "5dW39TiTKyel"
      }
    },
    {
      "cell_type": "code",
      "source": [
        "class Employee:\n",
        "    def __init__(self, name, hours_worked, hourly_rate):\n",
        "        # Initialize the name, hours worked, and hourly rate\n",
        "        self.name = name\n",
        "        self.hours_worked = hours_worked\n",
        "        self.hourly_rate = hourly_rate\n",
        "\n",
        "    def calculate_salary(self):\n",
        "        # Calculate the salary based on hours worked and hourly rate\n",
        "        return self.hours_worked * self.hourly_rate\n",
        "\n",
        "\n",
        "# Derived class Manager\n",
        "class Manager(Employee):\n",
        "    def __init__(self, name, hours_worked, hourly_rate, bonus):\n",
        "        # Initialize the base class (Employee) with the given parameters\n",
        "        super().__init__(name, hours_worked, hourly_rate)\n",
        "        self.bonus = bonus\n",
        "\n",
        "    def calculate_salary(self):\n",
        "        # Calculate the base salary from the Employee class and add the bonus\n",
        "        base_salary = super().calculate_salary()\n",
        "        return base_salary + self.bonus\n",
        "\n",
        "\n",
        "# Creating an instance of Employee\n",
        "employee = Employee(\"John\", 40, 20)\n",
        "\n",
        "# Creating an instance of Manager\n",
        "manager = Manager(\"Alice\", 40, 25, 500)\n",
        "\n",
        "# Calculating and printing the salary of Employee and Manager\n",
        "print(f\"{employee.name}'s salary is: {employee.calculate_salary()}\")\n",
        "print(f\"{manager.name}'s salary is: {manager.calculate_salary()}\")\n"
      ],
      "metadata": {
        "colab": {
          "base_uri": "https://localhost:8080/"
        },
        "id": "3aD26Tm1K0JW",
        "outputId": "29046933-5ab2-4d59-99f1-6425b882b4c2"
      },
      "execution_count": 15,
      "outputs": [
        {
          "output_type": "stream",
          "name": "stdout",
          "text": [
            "John's salary is: 800\n",
            "Alice's salary is: 1500\n"
          ]
        }
      ]
    },
    {
      "cell_type": "markdown",
      "source": [
        "15. Create a class Product with attributes name, price, and quantity. Implement a method total_price() that\n",
        "calculates the total price of the product."
      ],
      "metadata": {
        "id": "MBmzCWJaLAJe"
      }
    },
    {
      "cell_type": "code",
      "source": [
        "class Product:\n",
        "    def __init__(self, name, price, quantity):\n",
        "        # Initialize the name, price, and quantity of the product\n",
        "        self.name = name\n",
        "        self.price = price\n",
        "        self.quantity = quantity\n",
        "\n",
        "    def total_price(self):\n",
        "        # Calculate the total price of the product\n",
        "        return self.price * self.quantity\n",
        "\n",
        "# Creating an instance of Product\n",
        "product1 = Product(\"Laptop\", 1000, 3)\n",
        "\n",
        "# Calculating and printing the total price of the product\n",
        "print(f\"The total price of {product1.name} is: ${product1.total_price()}\")\n"
      ],
      "metadata": {
        "colab": {
          "base_uri": "https://localhost:8080/"
        },
        "id": "ql_SH2y3LBpn",
        "outputId": "5d30ecad-2ee1-49a4-ab1d-821917654fe0"
      },
      "execution_count": 16,
      "outputs": [
        {
          "output_type": "stream",
          "name": "stdout",
          "text": [
            "The total price of Laptop is: $3000\n"
          ]
        }
      ]
    },
    {
      "cell_type": "markdown",
      "source": [
        "16. Create a class Animal with an abstract method sound(). Create two derived classes Cow and Sheep that\n",
        "implement the sound() method."
      ],
      "metadata": {
        "id": "99PNvbn0LNFq"
      }
    },
    {
      "cell_type": "code",
      "source": [
        "from abc import ABC, abstractmethod\n",
        "\n",
        "# Abstract base class Animal\n",
        "class Animal(ABC):\n",
        "    @abstractmethod\n",
        "    def sound(self):\n",
        "        pass  # Abstract method that will be implemented in derived classes\n",
        "\n",
        "# Derived class Cow\n",
        "class Cow(Animal):\n",
        "    def sound(self):\n",
        "        return \"Moo\"\n",
        "\n",
        "# Derived class Sheep\n",
        "class Sheep(Animal):\n",
        "    def sound(self):\n",
        "        return \"Baa\"\n",
        "\n",
        "# Creating instances of Cow and Sheep\n",
        "cow = Cow()\n",
        "sheep = Sheep()\n",
        "\n",
        "# Printing the sounds of both animals\n",
        "print(f\"Cow sound: {cow.sound()}\")\n",
        "print(f\"Sheep sound: {sheep.sound()}\")\n"
      ],
      "metadata": {
        "colab": {
          "base_uri": "https://localhost:8080/"
        },
        "id": "Y3CTxi4XLOkf",
        "outputId": "e7e356ee-7e72-4dad-d823-95ccca97efda"
      },
      "execution_count": 17,
      "outputs": [
        {
          "output_type": "stream",
          "name": "stdout",
          "text": [
            "Cow sound: Moo\n",
            "Sheep sound: Baa\n"
          ]
        }
      ]
    },
    {
      "cell_type": "markdown",
      "source": [
        "17. Create a class Book with attributes title, author, and year_published. Add a method get_book_info() that\n",
        "returns a formatted string with the book's details."
      ],
      "metadata": {
        "id": "_GoYEunFLeNu"
      }
    },
    {
      "cell_type": "code",
      "source": [
        "class Book:\n",
        "    def __init__(self, title, author, year_published):\n",
        "        # Initialize the title, author, and year_published attributes\n",
        "        self.title = title\n",
        "        self.author = author\n",
        "        self.year_published = year_published\n",
        "\n",
        "    def get_book_info(self):\n",
        "        # Return a formatted string with the book's details\n",
        "        return f\"'{self.title}' by {self.author}, published in {self.year_published}\"\n",
        "\n",
        "# Creating an instance of Book\n",
        "book1 = Book(\"1984\", \"George Orwell\", 1949)\n",
        "\n",
        "# Getting and printing the book's information\n",
        "print(book1.get_book_info())\n"
      ],
      "metadata": {
        "colab": {
          "base_uri": "https://localhost:8080/"
        },
        "id": "VppGESasLf0i",
        "outputId": "6df3b0db-c9ee-46ac-bd5b-a03114e5d907"
      },
      "execution_count": 18,
      "outputs": [
        {
          "output_type": "stream",
          "name": "stdout",
          "text": [
            "'1984' by George Orwell, published in 1949\n"
          ]
        }
      ]
    },
    {
      "cell_type": "markdown",
      "source": [
        "18. Create a class House with attributes address and price. Create a derived class Mansion that adds an\n",
        "attribute number_of_rooms."
      ],
      "metadata": {
        "id": "AOheGMetLrTx"
      }
    },
    {
      "cell_type": "code",
      "source": [
        "# Base class House\n",
        "class House:\n",
        "    def __init__(self, address, price):\n",
        "        # Initialize address and price of the house\n",
        "        self.address = address\n",
        "        self.price = price\n",
        "\n",
        "    def get_house_info(self):\n",
        "        # Return a formatted string with the house's details\n",
        "        return f\"House at {self.address}, priced at ${self.price}\"\n",
        "\n",
        "# Derived class Mansion\n",
        "class Mansion(House):\n",
        "    def __init__(self, address, price, number_of_rooms):\n",
        "        # Initialize the base class (House) with address and price\n",
        "        super().__init__(address, price)\n",
        "        self.number_of_rooms = number_of_rooms\n",
        "\n",
        "    def get_mansion_info(self):\n",
        "        # Return a formatted string with mansion details, including the number of rooms\n",
        "        house_info = super().get_house_info()\n",
        "        return f\"{house_info}, with {self.number_of_rooms} rooms\"\n",
        "\n",
        "# Creating an instance of House\n",
        "house = House(\"123 Main St\", 250000)\n",
        "\n",
        "# Creating an instance of Mansion\n",
        "mansion = Mansion(\"456 Luxury Ave\", 5000000, 10)\n",
        "\n",
        "# Printing the information of both the house and the mansion\n",
        "print(house.get_house_info())\n",
        "print(mansion.get_mansion_info())\n"
      ],
      "metadata": {
        "colab": {
          "base_uri": "https://localhost:8080/"
        },
        "id": "VN_fTYsbLszB",
        "outputId": "0ca31c75-1d00-4641-c576-900fffa924a5"
      },
      "execution_count": 19,
      "outputs": [
        {
          "output_type": "stream",
          "name": "stdout",
          "text": [
            "House at 123 Main St, priced at $250000\n",
            "House at 456 Luxury Ave, priced at $5000000, with 10 rooms\n"
          ]
        }
      ]
    },
    {
      "cell_type": "markdown",
      "source": [],
      "metadata": {
        "id": "ofyBZYNjLX56"
      }
    },
    {
      "cell_type": "markdown",
      "source": [],
      "metadata": {
        "id": "qN_KJiqxHXfy"
      }
    },
    {
      "cell_type": "markdown",
      "source": [],
      "metadata": {
        "id": "TuWsTJU6G_yE"
      }
    },
    {
      "cell_type": "markdown",
      "source": [
        "\n",
        "\n",
        "*   `List item`\n",
        "*   List item\n",
        "\n"
      ],
      "metadata": {
        "id": "45KmA8UYGRIu"
      }
    },
    {
      "cell_type": "markdown",
      "source": [],
      "metadata": {
        "id": "XpKcHmp7EgHX"
      }
    }
  ]
}